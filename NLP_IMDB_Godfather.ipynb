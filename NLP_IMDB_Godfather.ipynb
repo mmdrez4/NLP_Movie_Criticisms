{
 "cells": [
  {
   "cell_type": "markdown",
   "metadata": {},
   "source": [
    "# NLP HW1\n",
    "### Mohammadreza Daviran - 98101566"
   ]
  },
  {
   "cell_type": "markdown",
   "metadata": {},
   "source": [
    "### Install and import required libraries"
   ]
  },
  {
   "cell_type": "code",
   "execution_count": 105,
   "metadata": {
    "scrolled": true
   },
   "outputs": [
    {
     "name": "stdout",
     "output_type": "stream",
     "text": [
      "Requirement already satisfied: nltk in /Users/mohammadreza/opt/anaconda3/lib/python3.8/site-packages (3.3)\n",
      "Collecting nltk\n",
      "  Downloading nltk-3.8.1-py3-none-any.whl (1.5 MB)\n",
      "\u001b[K     |████████████████████████████████| 1.5 MB 418 kB/s eta 0:00:01\n",
      "\u001b[?25hCollecting regex>=2021.8.3\n",
      "  Downloading regex-2022.10.31-cp38-cp38-macosx_10_9_x86_64.whl (294 kB)\n",
      "\u001b[K     |████████████████████████████████| 294 kB 643 kB/s eta 0:00:01\n",
      "\u001b[?25hRequirement already satisfied: click in /Users/mohammadreza/opt/anaconda3/lib/python3.8/site-packages (from nltk) (7.1.2)\n",
      "Requirement already satisfied: tqdm in /Users/mohammadreza/opt/anaconda3/lib/python3.8/site-packages (from nltk) (4.59.0)\n",
      "Requirement already satisfied: joblib in /Users/mohammadreza/opt/anaconda3/lib/python3.8/site-packages (from nltk) (1.0.1)\n",
      "Installing collected packages: regex, nltk\n",
      "\u001b[33m  WARNING: The script nltk is installed in '/Users/mohammadreza/.local/bin' which is not on PATH.\n",
      "  Consider adding this directory to PATH or, if you prefer to suppress this warning, use --no-warn-script-location.\u001b[0m\n",
      "\u001b[31mERROR: pip's dependency resolver does not currently take into account all the packages that are installed. This behaviour is the source of the following dependency conflicts.\n",
      "hazm 0.7.0 requires nltk==3.3, but you have nltk 3.8.1 which is incompatible.\u001b[0m\n",
      "Successfully installed nltk-3.8.1 regex-2022.10.31\n",
      "Requirement already satisfied: selenium in /Users/mohammadreza/opt/anaconda3/lib/python3.8/site-packages (4.1.3)\n",
      "Requirement already satisfied: urllib3[secure,socks]~=1.26 in /Users/mohammadreza/opt/anaconda3/lib/python3.8/site-packages (from selenium) (1.26.4)\n",
      "Requirement already satisfied: trio~=0.17 in /Users/mohammadreza/opt/anaconda3/lib/python3.8/site-packages (from selenium) (0.20.0)\n",
      "Requirement already satisfied: trio-websocket~=0.9 in /Users/mohammadreza/opt/anaconda3/lib/python3.8/site-packages (from selenium) (0.9.2)\n",
      "Requirement already satisfied: idna in /Users/mohammadreza/opt/anaconda3/lib/python3.8/site-packages (from trio~=0.17->selenium) (2.10)\n",
      "Requirement already satisfied: sniffio in /Users/mohammadreza/opt/anaconda3/lib/python3.8/site-packages (from trio~=0.17->selenium) (1.2.0)\n",
      "Requirement already satisfied: sortedcontainers in /Users/mohammadreza/opt/anaconda3/lib/python3.8/site-packages (from trio~=0.17->selenium) (2.3.0)\n",
      "Requirement already satisfied: attrs>=19.2.0 in /Users/mohammadreza/opt/anaconda3/lib/python3.8/site-packages (from trio~=0.17->selenium) (20.3.0)\n",
      "Requirement already satisfied: outcome in /Users/mohammadreza/opt/anaconda3/lib/python3.8/site-packages (from trio~=0.17->selenium) (1.1.0)\n",
      "Requirement already satisfied: async-generator>=1.9 in /Users/mohammadreza/opt/anaconda3/lib/python3.8/site-packages (from trio~=0.17->selenium) (1.10)\n",
      "Requirement already satisfied: wsproto>=0.14 in /Users/mohammadreza/opt/anaconda3/lib/python3.8/site-packages (from trio-websocket~=0.9->selenium) (1.1.0)\n",
      "Requirement already satisfied: pyOpenSSL>=0.14 in /Users/mohammadreza/opt/anaconda3/lib/python3.8/site-packages (from urllib3[secure,socks]~=1.26->selenium) (20.0.1)\n",
      "Requirement already satisfied: cryptography>=1.3.4 in /Users/mohammadreza/opt/anaconda3/lib/python3.8/site-packages (from urllib3[secure,socks]~=1.26->selenium) (3.4.7)\n",
      "Requirement already satisfied: certifi in /Users/mohammadreza/opt/anaconda3/lib/python3.8/site-packages (from urllib3[secure,socks]~=1.26->selenium) (2020.12.5)\n",
      "Requirement already satisfied: PySocks!=1.5.7,<2.0,>=1.5.6 in /Users/mohammadreza/opt/anaconda3/lib/python3.8/site-packages (from urllib3[secure,socks]~=1.26->selenium) (1.7.1)\n",
      "Requirement already satisfied: cffi>=1.12 in /Users/mohammadreza/opt/anaconda3/lib/python3.8/site-packages (from cryptography>=1.3.4->urllib3[secure,socks]~=1.26->selenium) (1.14.5)\n",
      "Requirement already satisfied: pycparser in /Users/mohammadreza/opt/anaconda3/lib/python3.8/site-packages (from cffi>=1.12->cryptography>=1.3.4->urllib3[secure,socks]~=1.26->selenium) (2.20)\n",
      "Requirement already satisfied: six>=1.5.2 in /Users/mohammadreza/opt/anaconda3/lib/python3.8/site-packages (from pyOpenSSL>=0.14->urllib3[secure,socks]~=1.26->selenium) (1.15.0)\n",
      "Requirement already satisfied: h11<1,>=0.9.0 in /Users/mohammadreza/opt/anaconda3/lib/python3.8/site-packages (from wsproto>=0.14->trio-websocket~=0.9->selenium) (0.13.0)\n",
      "Requirement already satisfied: bs4 in /Users/mohammadreza/opt/anaconda3/lib/python3.8/site-packages (0.0.1)\n",
      "Requirement already satisfied: beautifulsoup4 in /Users/mohammadreza/opt/anaconda3/lib/python3.8/site-packages (from bs4) (4.9.3)\n",
      "Requirement already satisfied: soupsieve>1.2 in /Users/mohammadreza/opt/anaconda3/lib/python3.8/site-packages (from beautifulsoup4->bs4) (2.2.1)\n",
      "Requirement already satisfied: requests in /Users/mohammadreza/opt/anaconda3/lib/python3.8/site-packages (2.27.1)\n",
      "Requirement already satisfied: charset-normalizer~=2.0.0 in /Users/mohammadreza/opt/anaconda3/lib/python3.8/site-packages (from requests) (2.0.12)\n",
      "Requirement already satisfied: certifi>=2017.4.17 in /Users/mohammadreza/opt/anaconda3/lib/python3.8/site-packages (from requests) (2020.12.5)\n",
      "Requirement already satisfied: urllib3<1.27,>=1.21.1 in /Users/mohammadreza/opt/anaconda3/lib/python3.8/site-packages (from requests) (1.26.4)\n",
      "Requirement already satisfied: idna<4,>=2.5 in /Users/mohammadreza/opt/anaconda3/lib/python3.8/site-packages (from requests) (2.10)\n"
     ]
    }
   ],
   "source": [
    "! pip install --user -U nltk\n",
    "! pip install selenium\n",
    "! pip install bs4\n",
    "! pip install requests"
   ]
  },
  {
   "cell_type": "markdown",
   "metadata": {},
   "source": [
    "## Introduction"
   ]
  },
  {
   "cell_type": "markdown",
   "metadata": {},
   "source": [
    "I have gathered every criticism of <i>The Godfather trilogy</i> from IMDB User Reviews. Then I did some preprocessing on the data and analyzed it, which I will explain later. Finally I compare each on of the movies to the others in the topic of sentiment analysis.\n",
    "\n",
    "![the_godfather](the_godfather.jpg)"
   ]
  },
  {
   "cell_type": "markdown",
   "metadata": {},
   "source": [
    "I used these three links for crawling all the critisms from IMDB:\n",
    "\n",
    "- <a href='https://www.imdb.com/title/tt0068646/reviews?ref_=tt_urv'>Godfather 1 IMDB User Review</a>\n",
    "\n",
    "- <a href='https://www.imdb.com/title/tt0071562/reviews?ref_=tt_urv'>Godfather 2 IMDB User Review</a>\n",
    "\n",
    "- <a href='https://www.imdb.com/title/tt0099674/reviews?ref_=tt_urv'>Godfather 3 IMDB User Review</a>"
   ]
  },
  {
   "cell_type": "markdown",
   "metadata": {},
   "source": [
    "## Crawl and find the datasets"
   ]
  },
  {
   "cell_type": "markdown",
   "metadata": {},
   "source": [
    "There are some difficulties in retrieving all the datas from IMDB; for instance, I have to click on the *Load More* button once in a while to load more critisims. So I'm going to use **Selenium** library to do this and interactively use IMDB reviews. First I will import required libraries for using **Selenium**."
   ]
  },
  {
   "cell_type": "code",
   "execution_count": 102,
   "metadata": {},
   "outputs": [],
   "source": [
    "from selenium import webdriver      \n",
    "from selenium.common.exceptions import NoSuchElementException\n",
    "from selenium.webdriver.common.by import By\n",
    "from selenium.webdriver.support.ui import WebDriverWait\n",
    "from selenium.webdriver.support import expected_conditions as EC\n",
    "import time\n",
    "import matplotlib.pyplot as plt"
   ]
  },
  {
   "cell_type": "markdown",
   "metadata": {},
   "source": [
    "crawler.py is included in the zip file but the neccessary functions are in the following cells. For running these cells you need to have a webdriver in any specific path you want and also a browser! I used chromdriver as my webdriver and google chrome as my browser in this matter. It is included in the zip file too!"
   ]
  },
  {
   "cell_type": "markdown",
   "metadata": {},
   "source": [
    "page_loader function gets the url and iteration_num, then clicks on the *Load More* button *iteration_num* times!"
   ]
  },
  {
   "cell_type": "code",
   "execution_count": 103,
   "metadata": {},
   "outputs": [
    {
     "name": "stderr",
     "output_type": "stream",
     "text": [
      "<ipython-input-103-033df9577515>:8: DeprecationWarning: executable_path has been deprecated, please pass in a Service object\n",
      "  driver = webdriver.Chrome(PATH)\n"
     ]
    },
    {
     "name": "stdout",
     "output_type": "stream",
     "text": [
      "Message: element not interactable\n",
      "  (Session info: chrome=110.0.5481.177)\n",
      "Stacktrace:\n",
      "0   chromedriver                        0x0000000101173fa8 chromedriver + 4886440\n",
      "1   chromedriver                        0x00000001010f1643 chromedriver + 4351555\n",
      "2   chromedriver                        0x0000000100d3f99d chromedriver + 477597\n",
      "3   chromedriver                        0x0000000100d85f51 chromedriver + 765777\n",
      "4   chromedriver                        0x0000000100d76d73 chromedriver + 703859\n",
      "5   chromedriver                        0x0000000100daa5d2 chromedriver + 914898\n",
      "6   chromedriver                        0x0000000100d763dd chromedriver + 701405\n",
      "7   chromedriver                        0x0000000100daa78e chromedriver + 915342\n",
      "8   chromedriver                        0x0000000100dc55fe chromedriver + 1025534\n",
      "9   chromedriver                        0x0000000100daa3a3 chromedriver + 914339\n",
      "10  chromedriver                        0x0000000100d7457f chromedriver + 693631\n",
      "11  chromedriver                        0x0000000100d75b1e chromedriver + 699166\n",
      "12  chromedriver                        0x0000000101140b9e chromedriver + 4676510\n",
      "13  chromedriver                        0x000000010114591e chromedriver + 4696350\n",
      "14  chromedriver                        0x000000010114d19f chromedriver + 4727199\n",
      "15  chromedriver                        0x000000010114681a chromedriver + 4700186\n",
      "16  chromedriver                        0x0000000101119a62 chromedriver + 4516450\n",
      "17  chromedriver                        0x00000001011658c8 chromedriver + 4827336\n",
      "18  chromedriver                        0x0000000101165a45 chromedriver + 4827717\n",
      "19  chromedriver                        0x000000010117b7ef chromedriver + 4917231\n",
      "20  libsystem_pthread.dylib             0x00007fff2060e950 _pthread_start + 224\n",
      "21  libsystem_pthread.dylib             0x00007fff2060a47b thread_start + 15\n",
      "\n",
      "Complete\n"
     ]
    }
   ],
   "source": [
    "def page_loader(url, iteration_num):\n",
    "\n",
    "    driver.get(url)\n",
    "\n",
    "    for i in range(iteration_num):\n",
    "        try:\n",
    "            time.sleep(2)\n",
    "            try:\n",
    "                button = driver.find_element(By.XPATH, \"//button[text()='Load More']\"\n",
    "                button.click()\n",
    "            except:\n",
    "                print(i)\n",
    "            time.sleep(10)\n",
    "        except Exception as e:\n",
    "            print(e)\n",
    "            break\n",
    "    print(\"Complete\")\n",
    "    time.sleep(5)"
   ]
  },
  {
   "cell_type": "markdown",
   "metadata": {},
   "source": [
    "By using crawler function I'll save these attributes for each movie:\n",
    "- Scores: All of the scores that has been given to the movie by the critics.\n",
    "- Date: The dates that the critics were written.\n",
    "- Criticism: The complete text of the criticisms!\n",
    "- Spoilers: Number of criticisms that have the spoiler alert!\n",
    "\n",
    "The index of each file indicate the movie's part number."
   ]
  },
  {
   "cell_type": "code",
   "execution_count": 116,
   "metadata": {},
   "outputs": [],
   "source": [
    "def crawler(movie_num, url):\n",
    "    if movie_num == 1:\n",
    "        page_loader(url, 200)\n",
    "    if movie_num == 2:\n",
    "        page_loader(url, 120)\n",
    "    if movie_num == 3:\n",
    "        page_loader(url, 40)\n",
    "    scores = driver.find_elements(By.XPATH, '//span[@class=\"rating-other-user-rating\"]/span[1]')\n",
    "    print('number of scores retrieved:', len(scores))\n",
    "\n",
    "    dates = driver.find_elements(By.XPATH, '//span[@class=\"review-date\"]')\n",
    "    print('number of dates retrieved:', len(dates))\n",
    "\n",
    "    criticisms = driver.find_elements(By.XPATH, '//div[@class=\"text show-more__control\"]')\n",
    "    print('number of Criticisms retrieved:', len(criticisms))\n",
    "\n",
    "    spoilers = driver.find_elements(By.XPATH, '//span[@class=\"spoiler-warning\"]')\n",
    "    print('number of Spoilers retrieved:', len(spoilers))\n",
    "\n",
    "    f = open('Dataset/scores_' + str(movie_num) + '.txt', 'w', encoding='utf-8')\n",
    "    for score in scores:\n",
    "        f.write(f'{score.text}\\n')\n",
    "    f.close()\n",
    "\n",
    "    f = open('Dataset/dates_' + str(movie_num) + '.txt', 'w', encoding='utf-8')\n",
    "    for date in dates:\n",
    "        f.write(f'{date.text}\\n')\n",
    "    f.close()\n",
    "\n",
    "    f = open('Dataset/criticisms_' + str(movie_num) + '.txt', 'w', encoding='utf-8')\n",
    "    for crit in criticisms:\n",
    "        f.write(f'{crit.text}\\n')\n",
    "    f.close()\n",
    "\n",
    "    f = open('Dataset/spoilers_' + str(movie_num) + '.txt', 'w', encoding='utf-8')\n",
    "    for spoiler in spoilers:\n",
    "        f.write(f'{spoiler.text}\\n')\n",
    "    f.close()"
   ]
  },
  {
   "cell_type": "markdown",
   "metadata": {},
   "source": [
    "*PATH* is the path to your driver. You can change it if you want to run it yourself. It is highly recommended to use crawler.py and change the path to the driver there."
   ]
  },
  {
   "cell_type": "code",
   "execution_count": 117,
   "metadata": {},
   "outputs": [],
   "source": [
    "PATH = '/Applications/chromedriver'\n",
    "driver = webdriver.Chrome(PATH)\n",
    "\n",
    "godfather1_url = \"https://www.imdb.com/title/tt0068646/reviews?ref_=tt_urv\"\n",
    "crawler(1, godfather1_url)\n",
    "\n",
    "godfather2_url = \"https://www.imdb.com/title/tt0071562/reviews?ref_=tt_urv\"\n",
    "crawler(2, godfather2_url)\n",
    "\n",
    "godfather3_url = \"https://www.imdb.com/title/tt0099674/reviews?ref_=tt_urv\"\n",
    "crawler(3, godfather3_url)"
   ]
  },
  {
   "cell_type": "code",
   "execution_count": 12,
   "metadata": {},
   "outputs": [],
   "source": [
    "driver.quit()"
   ]
  },
  {
   "cell_type": "markdown",
   "metadata": {},
   "source": [
    "## Preprocessing and get some information from the datas\n",
    "Now that we have our dataset we want to do our pre-proccesing tasks on it and get some useful information."
   ]
  },
  {
   "cell_type": "markdown",
   "metadata": {},
   "source": [
    "### Install and import required libraries"
   ]
  },
  {
   "cell_type": "code",
   "execution_count": 167,
   "metadata": {},
   "outputs": [
    {
     "name": "stdout",
     "output_type": "stream",
     "text": [
      "[nltk_data] Downloading package stopwords to\n",
      "[nltk_data]     /Users/mohammadreza/nltk_data...\n",
      "[nltk_data]   Package stopwords is already up-to-date!\n",
      "[nltk_data] Downloading package punkt to\n",
      "[nltk_data]     /Users/mohammadreza/nltk_data...\n",
      "[nltk_data]   Package punkt is already up-to-date!\n",
      "[nltk_data] Downloading package wordnet to\n",
      "[nltk_data]     /Users/mohammadreza/nltk_data...\n",
      "[nltk_data]   Package wordnet is already up-to-date!\n",
      "[nltk_data] Downloading package omw-1.4 to\n",
      "[nltk_data]     /Users/mohammadreza/nltk_data...\n",
      "[nltk_data]   Package omw-1.4 is already up-to-date!\n"
     ]
    }
   ],
   "source": [
    "import nltk\n",
    "from nltk.tokenize import TweetTokenizer\n",
    "from nltk import word_tokenize\n",
    "import string\n",
    "\n",
    "nltk.download('stopwords')\n",
    "nltk.download('punkt')\n",
    "nltk.download('wordnet')\n",
    "nltk.download('omw-1.4')\n",
    "from nltk.corpus import stopwords"
   ]
  },
  {
   "cell_type": "markdown",
   "metadata": {},
   "source": [
    "### Find common words used in the criticisms in each movie"
   ]
  },
  {
   "cell_type": "markdown",
   "metadata": {},
   "source": [
    "First we do all the required preprocessings."
   ]
  },
  {
   "cell_type": "code",
   "execution_count": 184,
   "metadata": {},
   "outputs": [],
   "source": [
    "def to_lower(string):\n",
    "    return string.lower()"
   ]
  },
  {
   "cell_type": "code",
   "execution_count": 185,
   "metadata": {},
   "outputs": [],
   "source": [
    "def tokenizer(string):\n",
    "    return TweetTokenizer().tokenize(string)"
   ]
  },
  {
   "cell_type": "code",
   "execution_count": 186,
   "metadata": {},
   "outputs": [],
   "source": [
    "def remove_stopwords(input):\n",
    "    stop_words = set(stopwords.words('english'))\n",
    "    return [w.lower() for w in input if w not in stop_words]"
   ]
  },
  {
   "cell_type": "code",
   "execution_count": 187,
   "metadata": {},
   "outputs": [],
   "source": [
    "def punctuation_remover(input):\n",
    "    return list(filter(lambda t: t not in string.punctuation, input))"
   ]
  },
  {
   "cell_type": "code",
   "execution_count": 188,
   "metadata": {},
   "outputs": [],
   "source": [
    "def find_frequent_words(input):\n",
    "    return nltk.FreqDist(w.lower() for w in input)"
   ]
  },
  {
   "cell_type": "code",
   "execution_count": 189,
   "metadata": {},
   "outputs": [],
   "source": [
    "def find_most_common(criticisms_str):\n",
    "    tokenized_str = tokenizer(\" \".join(to_lower(criticisms_str).split()))\n",
    "    normalized_str = punctuation_remover(remove_stopwords(tokenized_str))\n",
    "    frequent_words = find_frequent_words(normalized_str)\n",
    "    return frequent_words.most_common(25)"
   ]
  },
  {
   "cell_type": "markdown",
   "metadata": {},
   "source": [
    "After the preprocessings, I am going to find the common words for each on of the movies:"
   ]
  },
  {
   "cell_type": "code",
   "execution_count": 216,
   "metadata": {},
   "outputs": [],
   "source": [
    "criticism_first_movie = ''\n",
    "with open('Dataset/criticisms_1.txt', 'r', encoding='utf-8', errors='ignore') as f:\n",
    "    criticism_first_movie = f.read()\n",
    "criticism_first_movie = criticism_first_movie.strip()\n",
    "most_common_words_1 = find_most_common(criticism_first_movie)\n",
    "\n",
    "criticism_second_movie = ''\n",
    "with open('Dataset/criticisms_2.txt', 'r', encoding='utf-8', errors='ignore') as f:\n",
    "    criticism_second_movie = f.read()\n",
    "criticism_second_movie = criticism_second_movie.strip()\n",
    "most_common_words_2 = find_most_common(criticism_second_movie)\n",
    "\n",
    "criticism_third_movie = ''\n",
    "with open('Dataset/criticisms_3.txt', 'r', encoding='utf-8', errors='ignore') as f:\n",
    "    criticism_third_movie = f.read()\n",
    "criticism_third_movie = criticism_third_movie.strip()\n",
    "most_common_words_3 = find_most_common(criticism_third_movie)"
   ]
  },
  {
   "cell_type": "code",
   "execution_count": 217,
   "metadata": {},
   "outputs": [
    {
     "data": {
      "text/html": [
       "<div>\n",
       "<style scoped>\n",
       "    .dataframe tbody tr th:only-of-type {\n",
       "        vertical-align: middle;\n",
       "    }\n",
       "\n",
       "    .dataframe tbody tr th {\n",
       "        vertical-align: top;\n",
       "    }\n",
       "\n",
       "    .dataframe thead th {\n",
       "        text-align: right;\n",
       "    }\n",
       "</style>\n",
       "<table border=\"1\" class=\"dataframe\">\n",
       "  <thead>\n",
       "    <tr style=\"text-align: right;\">\n",
       "      <th></th>\n",
       "      <th>words_1</th>\n",
       "      <th>frequent_1</th>\n",
       "      <th>words_2</th>\n",
       "      <th>frequent_2</th>\n",
       "      <th>words_3</th>\n",
       "      <th>frequent_3</th>\n",
       "    </tr>\n",
       "  </thead>\n",
       "  <tbody>\n",
       "    <tr>\n",
       "      <th>0</th>\n",
       "      <td>movie</td>\n",
       "      <td>4321</td>\n",
       "      <td>movie</td>\n",
       "      <td>715</td>\n",
       "      <td>movie</td>\n",
       "      <td>368</td>\n",
       "    </tr>\n",
       "    <tr>\n",
       "      <th>1</th>\n",
       "      <td>film</td>\n",
       "      <td>2553</td>\n",
       "      <td>godfather</td>\n",
       "      <td>544</td>\n",
       "      <td>godfather</td>\n",
       "      <td>294</td>\n",
       "    </tr>\n",
       "    <tr>\n",
       "      <th>2</th>\n",
       "      <td>godfather</td>\n",
       "      <td>1706</td>\n",
       "      <td>film</td>\n",
       "      <td>466</td>\n",
       "      <td>film</td>\n",
       "      <td>267</td>\n",
       "    </tr>\n",
       "    <tr>\n",
       "      <th>3</th>\n",
       "      <td>one</td>\n",
       "      <td>1473</td>\n",
       "      <td>one</td>\n",
       "      <td>441</td>\n",
       "      <td>first</td>\n",
       "      <td>239</td>\n",
       "    </tr>\n",
       "    <tr>\n",
       "      <th>4</th>\n",
       "      <td>best</td>\n",
       "      <td>1437</td>\n",
       "      <td>part</td>\n",
       "      <td>403</td>\n",
       "      <td>two</td>\n",
       "      <td>231</td>\n",
       "    </tr>\n",
       "    <tr>\n",
       "      <th>5</th>\n",
       "      <td>time</td>\n",
       "      <td>1105</td>\n",
       "      <td>first</td>\n",
       "      <td>359</td>\n",
       "      <td>part</td>\n",
       "      <td>221</td>\n",
       "    </tr>\n",
       "    <tr>\n",
       "      <th>6</th>\n",
       "      <td>great</td>\n",
       "      <td>1051</td>\n",
       "      <td>best</td>\n",
       "      <td>286</td>\n",
       "      <td>good</td>\n",
       "      <td>180</td>\n",
       "    </tr>\n",
       "    <tr>\n",
       "      <th>7</th>\n",
       "      <td>ever</td>\n",
       "      <td>985</td>\n",
       "      <td>pacino</td>\n",
       "      <td>257</td>\n",
       "      <td>one</td>\n",
       "      <td>174</td>\n",
       "    </tr>\n",
       "    <tr>\n",
       "      <th>8</th>\n",
       "      <td>like</td>\n",
       "      <td>954</td>\n",
       "      <td>corleone</td>\n",
       "      <td>249</td>\n",
       "      <td>like</td>\n",
       "      <td>153</td>\n",
       "    </tr>\n",
       "    <tr>\n",
       "      <th>9</th>\n",
       "      <td>movies</td>\n",
       "      <td>937</td>\n",
       "      <td>great</td>\n",
       "      <td>236</td>\n",
       "      <td>michael</td>\n",
       "      <td>143</td>\n",
       "    </tr>\n",
       "    <tr>\n",
       "      <th>10</th>\n",
       "      <td>watch</td>\n",
       "      <td>911</td>\n",
       "      <td>good</td>\n",
       "      <td>234</td>\n",
       "      <td>coppola</td>\n",
       "      <td>130</td>\n",
       "    </tr>\n",
       "    <tr>\n",
       "      <th>11</th>\n",
       "      <td>good</td>\n",
       "      <td>799</td>\n",
       "      <td>sequel</td>\n",
       "      <td>227</td>\n",
       "      <td>great</td>\n",
       "      <td>128</td>\n",
       "    </tr>\n",
       "    <tr>\n",
       "      <th>12</th>\n",
       "      <td>family</td>\n",
       "      <td>794</td>\n",
       "      <td>story</td>\n",
       "      <td>223</td>\n",
       "      <td>pacino</td>\n",
       "      <td>122</td>\n",
       "    </tr>\n",
       "    <tr>\n",
       "      <th>13</th>\n",
       "      <td>story</td>\n",
       "      <td>750</td>\n",
       "      <td>better</td>\n",
       "      <td>222</td>\n",
       "      <td>movies</td>\n",
       "      <td>111</td>\n",
       "    </tr>\n",
       "    <tr>\n",
       "      <th>14</th>\n",
       "      <td>brando</td>\n",
       "      <td>730</td>\n",
       "      <td>michael</td>\n",
       "      <td>212</td>\n",
       "      <td>corleone</td>\n",
       "      <td>107</td>\n",
       "    </tr>\n",
       "    <tr>\n",
       "      <th>15</th>\n",
       "      <td>acting</td>\n",
       "      <td>697</td>\n",
       "      <td>ever</td>\n",
       "      <td>200</td>\n",
       "      <td>trilogy</td>\n",
       "      <td>106</td>\n",
       "    </tr>\n",
       "    <tr>\n",
       "      <th>16</th>\n",
       "      <td>pacino</td>\n",
       "      <td>652</td>\n",
       "      <td>vito</td>\n",
       "      <td>199</td>\n",
       "      <td>still</td>\n",
       "      <td>105</td>\n",
       "    </tr>\n",
       "    <tr>\n",
       "      <th>17</th>\n",
       "      <td>marlon</td>\n",
       "      <td>593</td>\n",
       "      <td>al</td>\n",
       "      <td>199</td>\n",
       "      <td>films</td>\n",
       "      <td>103</td>\n",
       "    </tr>\n",
       "    <tr>\n",
       "      <th>18</th>\n",
       "      <td>see</td>\n",
       "      <td>591</td>\n",
       "      <td>time</td>\n",
       "      <td>191</td>\n",
       "      <td>think</td>\n",
       "      <td>99</td>\n",
       "    </tr>\n",
       "    <tr>\n",
       "      <th>19</th>\n",
       "      <td>seen</td>\n",
       "      <td>578</td>\n",
       "      <td>robert</td>\n",
       "      <td>188</td>\n",
       "      <td>iii</td>\n",
       "      <td>98</td>\n",
       "    </tr>\n",
       "    <tr>\n",
       "      <th>20</th>\n",
       "      <td>al</td>\n",
       "      <td>573</td>\n",
       "      <td>de</td>\n",
       "      <td>187</td>\n",
       "      <td>would</td>\n",
       "      <td>97</td>\n",
       "    </tr>\n",
       "    <tr>\n",
       "      <th>21</th>\n",
       "      <td>made</td>\n",
       "      <td>566</td>\n",
       "      <td>family</td>\n",
       "      <td>185</td>\n",
       "      <td>bad</td>\n",
       "      <td>91</td>\n",
       "    </tr>\n",
       "    <tr>\n",
       "      <th>22</th>\n",
       "      <td>mafia</td>\n",
       "      <td>550</td>\n",
       "      <td>ii</td>\n",
       "      <td>179</td>\n",
       "      <td>sofia</td>\n",
       "      <td>89</td>\n",
       "    </tr>\n",
       "    <tr>\n",
       "      <th>23</th>\n",
       "      <td>...</td>\n",
       "      <td>513</td>\n",
       "      <td>like</td>\n",
       "      <td>174</td>\n",
       "      <td>al</td>\n",
       "      <td>88</td>\n",
       "    </tr>\n",
       "    <tr>\n",
       "      <th>24</th>\n",
       "      <td>films</td>\n",
       "      <td>510</td>\n",
       "      <td>niro</td>\n",
       "      <td>167</td>\n",
       "      <td>story</td>\n",
       "      <td>87</td>\n",
       "    </tr>\n",
       "  </tbody>\n",
       "</table>\n",
       "</div>"
      ],
      "text/plain": [
       "      words_1  frequent_1    words_2  frequent_2    words_3  frequent_3\n",
       "0       movie        4321      movie         715      movie         368\n",
       "1        film        2553  godfather         544  godfather         294\n",
       "2   godfather        1706       film         466       film         267\n",
       "3         one        1473        one         441      first         239\n",
       "4        best        1437       part         403        two         231\n",
       "5        time        1105      first         359       part         221\n",
       "6       great        1051       best         286       good         180\n",
       "7        ever         985     pacino         257        one         174\n",
       "8        like         954   corleone         249       like         153\n",
       "9      movies         937      great         236    michael         143\n",
       "10      watch         911       good         234    coppola         130\n",
       "11       good         799     sequel         227      great         128\n",
       "12     family         794      story         223     pacino         122\n",
       "13      story         750     better         222     movies         111\n",
       "14     brando         730    michael         212   corleone         107\n",
       "15     acting         697       ever         200    trilogy         106\n",
       "16     pacino         652       vito         199      still         105\n",
       "17     marlon         593         al         199      films         103\n",
       "18        see         591       time         191      think          99\n",
       "19       seen         578     robert         188        iii          98\n",
       "20         al         573         de         187      would          97\n",
       "21       made         566     family         185        bad          91\n",
       "22      mafia         550         ii         179      sofia          89\n",
       "23        ...         513       like         174         al          88\n",
       "24      films         510       niro         167      story          87"
      ]
     },
     "execution_count": 217,
     "metadata": {},
     "output_type": "execute_result"
    }
   ],
   "source": [
    "import pandas as pd\n",
    "\n",
    "freq_analysis_1 = pd.DataFrame(most_common_words_1 , columns=['words_1', 'frequent_1'])\n",
    "freq_analysis_2 = pd.DataFrame(most_common_words_2 , columns=['words_2', 'frequent_2'])\n",
    "freq_analysis_3 = pd.DataFrame(most_common_words_3 , columns=['words_3', 'frequent_3'])\n",
    "\n",
    "pd.concat([freq_analysis_1, freq_analysis_2, freq_analysis_3], axis=1)"
   ]
  },
  {
   "cell_type": "markdown",
   "metadata": {},
   "source": [
    "## Lematization of the most frequent words"
   ]
  },
  {
   "cell_type": "markdown",
   "metadata": {},
   "source": [
    "Next, I am going to lemmatize the criticisms and then find the most frequent words and show them in the table:"
   ]
  },
  {
   "cell_type": "code",
   "execution_count": 192,
   "metadata": {},
   "outputs": [
    {
     "name": "stderr",
     "output_type": "stream",
     "text": [
      "100%|██████████| 116597/116597 [00:00<00:00, 255313.34it/s]\n",
      "100%|██████████| 27803/27803 [00:00<00:00, 288050.89it/s]\n",
      "100%|██████████| 18281/18281 [00:00<00:00, 286823.94it/s]\n"
     ]
    },
    {
     "data": {
      "text/html": [
       "<div>\n",
       "<style scoped>\n",
       "    .dataframe tbody tr th:only-of-type {\n",
       "        vertical-align: middle;\n",
       "    }\n",
       "\n",
       "    .dataframe tbody tr th {\n",
       "        vertical-align: top;\n",
       "    }\n",
       "\n",
       "    .dataframe thead th {\n",
       "        text-align: right;\n",
       "    }\n",
       "</style>\n",
       "<table border=\"1\" class=\"dataframe\">\n",
       "  <thead>\n",
       "    <tr style=\"text-align: right;\">\n",
       "      <th></th>\n",
       "      <th>Godfather 1</th>\n",
       "      <th>Godfather 2</th>\n",
       "      <th>Godfather 3</th>\n",
       "    </tr>\n",
       "  </thead>\n",
       "  <tbody>\n",
       "    <tr>\n",
       "      <th>0</th>\n",
       "      <td>(movie, 5259)</td>\n",
       "      <td>(movie, 846)</td>\n",
       "      <td>(movie, 479)</td>\n",
       "    </tr>\n",
       "    <tr>\n",
       "      <th>1</th>\n",
       "      <td>(film, 3063)</td>\n",
       "      <td>(film, 555)</td>\n",
       "      <td>(film, 370)</td>\n",
       "    </tr>\n",
       "    <tr>\n",
       "      <th>2</th>\n",
       "      <td>(godfather, 1718)</td>\n",
       "      <td>(godfather, 549)</td>\n",
       "      <td>(godfather, 299)</td>\n",
       "    </tr>\n",
       "    <tr>\n",
       "      <th>3</th>\n",
       "      <td>(one, 1497)</td>\n",
       "      <td>(one, 444)</td>\n",
       "      <td>(part, 256)</td>\n",
       "    </tr>\n",
       "    <tr>\n",
       "      <th>4</th>\n",
       "      <td>(time, 1439)</td>\n",
       "      <td>(part, 430)</td>\n",
       "      <td>(first, 239)</td>\n",
       "    </tr>\n",
       "    <tr>\n",
       "      <th>5</th>\n",
       "      <td>(best, 1438)</td>\n",
       "      <td>(first, 359)</td>\n",
       "      <td>(two, 231)</td>\n",
       "    </tr>\n",
       "    <tr>\n",
       "      <th>6</th>\n",
       "      <td>(great, 1064)</td>\n",
       "      <td>(best, 287)</td>\n",
       "      <td>(good, 182)</td>\n",
       "    </tr>\n",
       "    <tr>\n",
       "      <th>7</th>\n",
       "      <td>(ever, 985)</td>\n",
       "      <td>(sequel, 264)</td>\n",
       "      <td>(one, 182)</td>\n",
       "    </tr>\n",
       "    <tr>\n",
       "      <th>8</th>\n",
       "      <td>(like, 969)</td>\n",
       "      <td>(pacino, 257)</td>\n",
       "      <td>(like, 153)</td>\n",
       "    </tr>\n",
       "    <tr>\n",
       "      <th>9</th>\n",
       "      <td>(watch, 919)</td>\n",
       "      <td>(story, 256)</td>\n",
       "      <td>(michael, 143)</td>\n",
       "    </tr>\n",
       "    <tr>\n",
       "      <th>10</th>\n",
       "      <td>(family, 868)</td>\n",
       "      <td>(corleone, 249)</td>\n",
       "      <td>(coppola, 131)</td>\n",
       "    </tr>\n",
       "    <tr>\n",
       "      <th>11</th>\n",
       "      <td>(good, 799)</td>\n",
       "      <td>(great, 242)</td>\n",
       "      <td>(great, 128)</td>\n",
       "    </tr>\n",
       "    <tr>\n",
       "      <th>12</th>\n",
       "      <td>(story, 778)</td>\n",
       "      <td>(time, 237)</td>\n",
       "      <td>(pacino, 122)</td>\n",
       "    </tr>\n",
       "    <tr>\n",
       "      <th>13</th>\n",
       "      <td>(brando, 730)</td>\n",
       "      <td>(good, 234)</td>\n",
       "      <td>(trilogy, 111)</td>\n",
       "    </tr>\n",
       "    <tr>\n",
       "      <th>14</th>\n",
       "      <td>(acting, 698)</td>\n",
       "      <td>(better, 222)</td>\n",
       "      <td>(time, 108)</td>\n",
       "    </tr>\n",
       "    <tr>\n",
       "      <th>15</th>\n",
       "      <td>(pacino, 652)</td>\n",
       "      <td>(michael, 215)</td>\n",
       "      <td>(corleone, 107)</td>\n",
       "    </tr>\n",
       "    <tr>\n",
       "      <th>16</th>\n",
       "      <td>(character, 647)</td>\n",
       "      <td>(ever, 200)</td>\n",
       "      <td>(still, 105)</td>\n",
       "    </tr>\n",
       "    <tr>\n",
       "      <th>17</th>\n",
       "      <td>(see, 599)</td>\n",
       "      <td>(vito, 199)</td>\n",
       "      <td>(think, 101)</td>\n",
       "    </tr>\n",
       "    <tr>\n",
       "      <th>18</th>\n",
       "      <td>(marlon, 593)</td>\n",
       "      <td>(al, 199)</td>\n",
       "      <td>(iii, 98)</td>\n",
       "    </tr>\n",
       "    <tr>\n",
       "      <th>19</th>\n",
       "      <td>(actor, 582)</td>\n",
       "      <td>(family, 192)</td>\n",
       "      <td>(would, 97)</td>\n",
       "    </tr>\n",
       "  </tbody>\n",
       "</table>\n",
       "</div>"
      ],
      "text/plain": [
       "          Godfather 1       Godfather 2       Godfather 3\n",
       "0       (movie, 5259)      (movie, 846)      (movie, 479)\n",
       "1        (film, 3063)       (film, 555)       (film, 370)\n",
       "2   (godfather, 1718)  (godfather, 549)  (godfather, 299)\n",
       "3         (one, 1497)        (one, 444)       (part, 256)\n",
       "4        (time, 1439)       (part, 430)      (first, 239)\n",
       "5        (best, 1438)      (first, 359)        (two, 231)\n",
       "6       (great, 1064)       (best, 287)       (good, 182)\n",
       "7         (ever, 985)     (sequel, 264)        (one, 182)\n",
       "8         (like, 969)     (pacino, 257)       (like, 153)\n",
       "9        (watch, 919)      (story, 256)    (michael, 143)\n",
       "10      (family, 868)   (corleone, 249)    (coppola, 131)\n",
       "11        (good, 799)      (great, 242)      (great, 128)\n",
       "12       (story, 778)       (time, 237)     (pacino, 122)\n",
       "13      (brando, 730)       (good, 234)    (trilogy, 111)\n",
       "14      (acting, 698)     (better, 222)       (time, 108)\n",
       "15      (pacino, 652)    (michael, 215)   (corleone, 107)\n",
       "16   (character, 647)       (ever, 200)      (still, 105)\n",
       "17         (see, 599)       (vito, 199)      (think, 101)\n",
       "18      (marlon, 593)         (al, 199)         (iii, 98)\n",
       "19       (actor, 582)     (family, 192)       (would, 97)"
      ]
     },
     "execution_count": 192,
     "metadata": {},
     "output_type": "execute_result"
    }
   ],
   "source": [
    "from nltk.stem import WordNetLemmatizer\n",
    "import tqdm\n",
    "\n",
    "lemmatizer = WordNetLemmatizer()\n",
    "\n",
    "\n",
    "def lematizing(criticisms_str, movie_name):\n",
    "    \n",
    "    tokenized_str = tokenizer(\" \".join(to_lower(criticisms_str).split()))\n",
    "\n",
    "    normalized_text = punctuation_remover(remove_stopwords(tokenized_str))\n",
    "\n",
    "    lemmatized_text = [lemmatizer.lemmatize(tok) for tok in tqdm.tqdm(normalized_text)]\n",
    "    df_nonstop_lemstem = {}\n",
    "    df_nonstop_lemstem[movie_name] = nltk.FreqDist(eval(F\"lemmatized_text\")).most_common(20)\n",
    "    freq_analysis_nonstop_lemstem = pd.DataFrame(df_nonstop_lemstem)\n",
    "    return freq_analysis_nonstop_lemstem\n",
    "\n",
    "lematizing_1 = lematizing(criticism_first_movie, \"Godfather 1\")\n",
    "lematizing_2 = lematizing(criticism_second_movie, \"Godfather 2\")\n",
    "lematizing_3 = lematizing(criticism_third_movie, \"Godfather 3\")\n",
    "pd.concat([lematizing_1, lematizing_2, lematizing_3], axis=1)"
   ]
  },
  {
   "cell_type": "markdown",
   "metadata": {},
   "source": [
    "## Number of criticisms with Spoilers Alert"
   ]
  },
  {
   "cell_type": "markdown",
   "metadata": {},
   "source": [
    "In this matter I find the number of the critisims with spoiler alert in them."
   ]
  },
  {
   "cell_type": "code",
   "execution_count": 193,
   "metadata": {},
   "outputs": [
    {
     "name": "stdout",
     "output_type": "stream",
     "text": [
      "Number of criticisms with spoiler for Godfather 1: 908\n",
      "Number of criticisms with spoiler for Godfather 2: 278\n",
      "Number of criticisms with spoiler for Godfather 3: 221\n"
     ]
    }
   ],
   "source": [
    "def num_of_spoilers(movie_num):\n",
    "    with open('Dataset/spoilers_' + str(movie_num) + '.txt', 'r', encoding='utf-8', errors='ignore') as f:\n",
    "        spoilers_text = f.read()\n",
    "    return len(spoilers_text.split('\\n'))\n",
    "\n",
    "print(f'Number of criticisms with spoiler for Godfather 1: {num_of_spoilers(1)}')\n",
    "print(f'Number of criticisms with spoiler for Godfather 2: {num_of_spoilers(2)}')\n",
    "print(f'Number of criticisms with spoiler for Godfather 3: {num_of_spoilers(3)}')"
   ]
  },
  {
   "cell_type": "markdown",
   "metadata": {},
   "source": [
    "## Average Scores of the movie"
   ]
  },
  {
   "cell_type": "markdown",
   "metadata": {},
   "source": [
    "We calculate average score of these criticisms by calculating sum of the score data we collect from IMDB and divide it by the number of the scores. Some of the criticisms don't have any score so we reduce 1 from the length of scores to calculate the score properly. By doing this we can compute the value of each movie better and compare them together. "
   ]
  },
  {
   "cell_type": "code",
   "execution_count": 194,
   "metadata": {},
   "outputs": [
    {
     "name": "stdout",
     "output_type": "stream",
     "text": [
      "Average score given by users for Godfather 1 is: 9.05168776371308\n",
      "Average score given by users for Godfather 2 is: 9.00948275862069\n",
      "Average score given by users for Godfather 3 is: 6.8345534407027815\n"
     ]
    }
   ],
   "source": [
    "def average_score(file_name):\n",
    "    with open('Dataset/' + file_name, 'r', encoding='utf-8', errors='ignore') as f:\n",
    "        scores_text = f.read()\n",
    "    scores_array = scores_text.split('\\n')\n",
    "    summation = 0\n",
    "    n = len(scores_array)\n",
    "    for score in scores_array:\n",
    "        try:\n",
    "            summation += float(score)\n",
    "        except:\n",
    "            n -= 1\n",
    "    return summation/n\n",
    "print(f'Average score given by users for Godfather 1 is: {average_score(\"scores_1.txt\")}')\n",
    "print(f'Average score given by users for Godfather 2 is: {average_score(\"scores_2.txt\")}')\n",
    "print(f'Average score given by users for Godfather 3 is: {average_score(\"scores_3.txt\")}')"
   ]
  },
  {
   "cell_type": "markdown",
   "metadata": {},
   "source": [
    "## Years of Reviews"
   ]
  },
  {
   "cell_type": "markdown",
   "metadata": {},
   "source": [
    "### Install and import required libraries\n"
   ]
  },
  {
   "cell_type": "code",
   "execution_count": 195,
   "metadata": {},
   "outputs": [],
   "source": [
    "from nltk.tokenize import RegexpTokenizer"
   ]
  },
  {
   "cell_type": "code",
   "execution_count": 196,
   "metadata": {},
   "outputs": [],
   "source": [
    "def tokenizer_for_years(input):\n",
    "    # seperate the years with regex\n",
    "    tokenizer = RegexpTokenizer('\\d\\d\\d\\d')\n",
    "    return tokenizer.tokenize(input)"
   ]
  },
  {
   "cell_type": "markdown",
   "metadata": {},
   "source": [
    "In this section I find 15 the most frequent years that the reviews were written in the IMDB for each movie."
   ]
  },
  {
   "cell_type": "code",
   "execution_count": 197,
   "metadata": {
    "scrolled": false
   },
   "outputs": [
    {
     "data": {
      "text/html": [
       "<div>\n",
       "<style scoped>\n",
       "    .dataframe tbody tr th:only-of-type {\n",
       "        vertical-align: middle;\n",
       "    }\n",
       "\n",
       "    .dataframe tbody tr th {\n",
       "        vertical-align: top;\n",
       "    }\n",
       "\n",
       "    .dataframe thead th {\n",
       "        text-align: right;\n",
       "    }\n",
       "</style>\n",
       "<table border=\"1\" class=\"dataframe\">\n",
       "  <thead>\n",
       "    <tr style=\"text-align: right;\">\n",
       "      <th></th>\n",
       "      <th>year_1</th>\n",
       "      <th>frequent_1</th>\n",
       "      <th>year_2</th>\n",
       "      <th>frequent_2</th>\n",
       "      <th>year_3</th>\n",
       "      <th>frequent_3</th>\n",
       "    </tr>\n",
       "  </thead>\n",
       "  <tbody>\n",
       "    <tr>\n",
       "      <th>0</th>\n",
       "      <td>2020</td>\n",
       "      <td>703</td>\n",
       "      <td>2020</td>\n",
       "      <td>187</td>\n",
       "      <td>2020</td>\n",
       "      <td>78</td>\n",
       "    </tr>\n",
       "    <tr>\n",
       "      <th>1</th>\n",
       "      <td>2021</td>\n",
       "      <td>587</td>\n",
       "      <td>2021</td>\n",
       "      <td>157</td>\n",
       "      <td>2021</td>\n",
       "      <td>77</td>\n",
       "    </tr>\n",
       "    <tr>\n",
       "      <th>2</th>\n",
       "      <td>2022</td>\n",
       "      <td>542</td>\n",
       "      <td>2022</td>\n",
       "      <td>113</td>\n",
       "      <td>2022</td>\n",
       "      <td>53</td>\n",
       "    </tr>\n",
       "    <tr>\n",
       "      <th>3</th>\n",
       "      <td>2019</td>\n",
       "      <td>491</td>\n",
       "      <td>2019</td>\n",
       "      <td>107</td>\n",
       "      <td>2002</td>\n",
       "      <td>47</td>\n",
       "    </tr>\n",
       "    <tr>\n",
       "      <th>4</th>\n",
       "      <td>2018</td>\n",
       "      <td>316</td>\n",
       "      <td>2018</td>\n",
       "      <td>58</td>\n",
       "      <td>2005</td>\n",
       "      <td>43</td>\n",
       "    </tr>\n",
       "    <tr>\n",
       "      <th>5</th>\n",
       "      <td>2015</td>\n",
       "      <td>196</td>\n",
       "      <td>2001</td>\n",
       "      <td>48</td>\n",
       "      <td>2004</td>\n",
       "      <td>42</td>\n",
       "    </tr>\n",
       "    <tr>\n",
       "      <th>6</th>\n",
       "      <td>2014</td>\n",
       "      <td>194</td>\n",
       "      <td>2002</td>\n",
       "      <td>46</td>\n",
       "      <td>2006</td>\n",
       "      <td>39</td>\n",
       "    </tr>\n",
       "    <tr>\n",
       "      <th>7</th>\n",
       "      <td>2006</td>\n",
       "      <td>168</td>\n",
       "      <td>2003</td>\n",
       "      <td>45</td>\n",
       "      <td>2003</td>\n",
       "      <td>39</td>\n",
       "    </tr>\n",
       "    <tr>\n",
       "      <th>8</th>\n",
       "      <td>2013</td>\n",
       "      <td>161</td>\n",
       "      <td>2005</td>\n",
       "      <td>43</td>\n",
       "      <td>2001</td>\n",
       "      <td>38</td>\n",
       "    </tr>\n",
       "    <tr>\n",
       "      <th>9</th>\n",
       "      <td>2002</td>\n",
       "      <td>155</td>\n",
       "      <td>2014</td>\n",
       "      <td>38</td>\n",
       "      <td>1999</td>\n",
       "      <td>36</td>\n",
       "    </tr>\n",
       "    <tr>\n",
       "      <th>10</th>\n",
       "      <td>2017</td>\n",
       "      <td>150</td>\n",
       "      <td>2013</td>\n",
       "      <td>37</td>\n",
       "      <td>2008</td>\n",
       "      <td>35</td>\n",
       "    </tr>\n",
       "    <tr>\n",
       "      <th>11</th>\n",
       "      <td>2003</td>\n",
       "      <td>148</td>\n",
       "      <td>2009</td>\n",
       "      <td>35</td>\n",
       "      <td>2007</td>\n",
       "      <td>34</td>\n",
       "    </tr>\n",
       "    <tr>\n",
       "      <th>12</th>\n",
       "      <td>2004</td>\n",
       "      <td>141</td>\n",
       "      <td>1999</td>\n",
       "      <td>34</td>\n",
       "      <td>2018</td>\n",
       "      <td>33</td>\n",
       "    </tr>\n",
       "    <tr>\n",
       "      <th>13</th>\n",
       "      <td>2005</td>\n",
       "      <td>132</td>\n",
       "      <td>2017</td>\n",
       "      <td>33</td>\n",
       "      <td>2019</td>\n",
       "      <td>25</td>\n",
       "    </tr>\n",
       "    <tr>\n",
       "      <th>14</th>\n",
       "      <td>2016</td>\n",
       "      <td>128</td>\n",
       "      <td>2010</td>\n",
       "      <td>31</td>\n",
       "      <td>2009</td>\n",
       "      <td>23</td>\n",
       "    </tr>\n",
       "  </tbody>\n",
       "</table>\n",
       "</div>"
      ],
      "text/plain": [
       "   year_1  frequent_1 year_2  frequent_2 year_3  frequent_3\n",
       "0    2020         703   2020         187   2020          78\n",
       "1    2021         587   2021         157   2021          77\n",
       "2    2022         542   2022         113   2022          53\n",
       "3    2019         491   2019         107   2002          47\n",
       "4    2018         316   2018          58   2005          43\n",
       "5    2015         196   2001          48   2004          42\n",
       "6    2014         194   2002          46   2006          39\n",
       "7    2006         168   2003          45   2003          39\n",
       "8    2013         161   2005          43   2001          38\n",
       "9    2002         155   2014          38   1999          36\n",
       "10   2017         150   2013          37   2008          35\n",
       "11   2003         148   2009          35   2007          34\n",
       "12   2004         141   1999          34   2018          33\n",
       "13   2005         132   2017          33   2019          25\n",
       "14   2016         128   2010          31   2009          23"
      ]
     },
     "execution_count": 197,
     "metadata": {},
     "output_type": "execute_result"
    }
   ],
   "source": [
    "def dates(file_name):\n",
    "    with open('Dataset/' + file_name, 'r', encoding='utf-8', errors='ignore') as f:\n",
    "        dates_text = f.read()\n",
    "    years = tokenizer_for_years(dates_text)\n",
    "    most_common_words = find_frequent_words(years).most_common(15)\n",
    "    return most_common_words\n",
    "\n",
    "\n",
    "freq_analysis_1 = pd.DataFrame(dates('dates_1.txt'), columns=['year_1', 'frequent_1'])\n",
    "freq_analysis_2 = pd.DataFrame(dates('dates_2.txt'), columns=['year_2', 'frequent_2'])\n",
    "freq_analysis_3 = pd.DataFrame(dates('dates_3.txt'), columns=['year_3', 'frequent_3'])\n",
    "\n",
    "pd.concat([freq_analysis_1, freq_analysis_2, freq_analysis_3], axis=1)"
   ]
  },
  {
   "cell_type": "markdown",
   "metadata": {},
   "source": [
    "We can see that although *The Godfather trilogy* was released in 1972, 1974, 1990 respectivelyو most of the criticisms are from post 2010s. This can have muliple explanation. People are registering more and more in IMDB and this trilogy gets more and more famous through time! Also we have to consider the birth of the IMDB which is October 17, 1990! It means IMDB created after that the trilogy had released. \n",
    "\n",
    "Also you can see that 2020 is the most crowded year for reviews!"
   ]
  },
  {
   "cell_type": "markdown",
   "metadata": {},
   "source": [
    "## Find the Keywords in each Movie"
   ]
  },
  {
   "cell_type": "markdown",
   "metadata": {},
   "source": [
    "In order to get more accurate and important information, I find the keywords for each movie."
   ]
  },
  {
   "cell_type": "code",
   "execution_count": 198,
   "metadata": {},
   "outputs": [
    {
     "name": "stdout",
     "output_type": "stream",
     "text": [
      "Requirement already satisfied: yake in /Users/mohammadreza/opt/anaconda3/lib/python3.8/site-packages (0.4.8)\r\n",
      "Requirement already satisfied: networkx in /Users/mohammadreza/opt/anaconda3/lib/python3.8/site-packages (from yake) (2.5)\r\n",
      "Requirement already satisfied: numpy in /Users/mohammadreza/opt/anaconda3/lib/python3.8/site-packages (from yake) (1.19.5)\r\n",
      "Requirement already satisfied: segtok in /Users/mohammadreza/opt/anaconda3/lib/python3.8/site-packages (from yake) (1.5.11)\r\n",
      "Requirement already satisfied: jellyfish in /Users/mohammadreza/opt/anaconda3/lib/python3.8/site-packages (from yake) (0.9.0)\r\n",
      "Requirement already satisfied: tabulate in /Users/mohammadreza/opt/anaconda3/lib/python3.8/site-packages (from yake) (0.8.9)\r\n",
      "Requirement already satisfied: click>=6.0 in /Users/mohammadreza/opt/anaconda3/lib/python3.8/site-packages (from yake) (7.1.2)\r\n",
      "Requirement already satisfied: decorator>=4.3.0 in /Users/mohammadreza/opt/anaconda3/lib/python3.8/site-packages (from networkx->yake) (5.0.6)\r\n",
      "Requirement already satisfied: regex in /Users/mohammadreza/.local/lib/python3.8/site-packages (from segtok->yake) (2022.10.31)\r\n"
     ]
    }
   ],
   "source": [
    "!pip install yake\n",
    "import yake"
   ]
  },
  {
   "cell_type": "markdown",
   "metadata": {},
   "source": [
    "## Extract keywords"
   ]
  },
  {
   "cell_type": "markdown",
   "metadata": {},
   "source": [
    "I used yake library for this task and found 10 keywords for each movie."
   ]
  },
  {
   "cell_type": "code",
   "execution_count": 199,
   "metadata": {},
   "outputs": [],
   "source": [
    "movies = {}\n",
    "movies['Godfather_1'] = criticism_first_movie\n",
    "movies['Godfather_2'] = criticism_second_movie\n",
    "movies['Godfather_3'] = criticism_third_movie"
   ]
  },
  {
   "cell_type": "code",
   "execution_count": 200,
   "metadata": {},
   "outputs": [],
   "source": [
    "keyword_extractor = yake.KeywordExtractor(lan=\"en\", n=3, dedupLim=0.9, top=10, features=None)\n",
    "\n",
    "keywords = {}\n",
    "\n",
    "for movie in movies:\n",
    "    temp = keyword_extractor.extract_keywords(movies[movie])\n",
    "    rounded_element = []\n",
    "    for element in temp:\n",
    "        rounded_element.append((element[0], round(element[1], 7)))\n",
    "    keywords[movie] = rounded_element"
   ]
  },
  {
   "cell_type": "code",
   "execution_count": 201,
   "metadata": {
    "scrolled": true
   },
   "outputs": [
    {
     "data": {
      "text/html": [
       "<div>\n",
       "<style scoped>\n",
       "    .dataframe tbody tr th:only-of-type {\n",
       "        vertical-align: middle;\n",
       "    }\n",
       "\n",
       "    .dataframe tbody tr th {\n",
       "        vertical-align: top;\n",
       "    }\n",
       "\n",
       "    .dataframe thead th {\n",
       "        text-align: right;\n",
       "    }\n",
       "</style>\n",
       "<table border=\"1\" class=\"dataframe\">\n",
       "  <thead>\n",
       "    <tr style=\"text-align: right;\">\n",
       "      <th></th>\n",
       "      <th>Godfather_1</th>\n",
       "      <th>Godfather_2</th>\n",
       "      <th>Godfather_3</th>\n",
       "    </tr>\n",
       "  </thead>\n",
       "  <tbody>\n",
       "    <tr>\n",
       "      <th>0</th>\n",
       "      <td>(Francis Ford Coppola, 6e-07)</td>\n",
       "      <td>(Godfather Part, 1.1e-05)</td>\n",
       "      <td>(Godfather Part III, 9.6e-06)</td>\n",
       "    </tr>\n",
       "    <tr>\n",
       "      <th>1</th>\n",
       "      <td>(Marlon Brando, 1.3e-06)</td>\n",
       "      <td>(young Vito Corleone, 1.59e-05)</td>\n",
       "      <td>(Michael Corleone, 7.09e-05)</td>\n",
       "    </tr>\n",
       "    <tr>\n",
       "      <th>2</th>\n",
       "      <td>(Don Vito Corleone, 1.4e-06)</td>\n",
       "      <td>(Vito Corleone, 1.82e-05)</td>\n",
       "      <td>(Godfather Part, 7.47e-05)</td>\n",
       "    </tr>\n",
       "    <tr>\n",
       "      <th>3</th>\n",
       "      <td>(Godfather, 7.1e-06)</td>\n",
       "      <td>(Michael Corleone, 2.47e-05)</td>\n",
       "      <td>(Sofia Coppola, 7.82e-05)</td>\n",
       "    </tr>\n",
       "    <tr>\n",
       "      <th>4</th>\n",
       "      <td>(movie, 8e-06)</td>\n",
       "      <td>(Don Vito Corleone, 3.72e-05)</td>\n",
       "      <td>(Part III, 9.96e-05)</td>\n",
       "    </tr>\n",
       "    <tr>\n",
       "      <th>5</th>\n",
       "      <td>(ford Coppola, 8.1e-06)</td>\n",
       "      <td>(Don Michael Corleone, 4.61e-05)</td>\n",
       "      <td>(Godfather, 0.0001243)</td>\n",
       "    </tr>\n",
       "    <tr>\n",
       "      <th>6</th>\n",
       "      <td>(Vito Corleone, 1.1e-05)</td>\n",
       "      <td>(godfather, 4.71e-05)</td>\n",
       "      <td>(Godfather III, 0.0001658)</td>\n",
       "    </tr>\n",
       "    <tr>\n",
       "      <th>7</th>\n",
       "      <td>(Ford Coppola Godfather, 1.12e-05)</td>\n",
       "      <td>(Robert de Niro, 7.91e-05)</td>\n",
       "      <td>(Francis Ford Coppola, 0.0001833)</td>\n",
       "    </tr>\n",
       "    <tr>\n",
       "      <th>8</th>\n",
       "      <td>(Marlon Brando performance, 1.27e-05)</td>\n",
       "      <td>(Pacino Michael Corleone, 8.45e-05)</td>\n",
       "      <td>(Andy Garcia, 0.0001862)</td>\n",
       "    </tr>\n",
       "    <tr>\n",
       "      <th>9</th>\n",
       "      <td>(Godfather Don Corleone, 1.29e-05)</td>\n",
       "      <td>(movie, 0.0001071)</td>\n",
       "      <td>(Godfather movies, 0.0002077)</td>\n",
       "    </tr>\n",
       "  </tbody>\n",
       "</table>\n",
       "</div>"
      ],
      "text/plain": [
       "                             Godfather_1                          Godfather_2  \\\n",
       "0          (Francis Ford Coppola, 6e-07)            (Godfather Part, 1.1e-05)   \n",
       "1               (Marlon Brando, 1.3e-06)      (young Vito Corleone, 1.59e-05)   \n",
       "2           (Don Vito Corleone, 1.4e-06)            (Vito Corleone, 1.82e-05)   \n",
       "3                   (Godfather, 7.1e-06)         (Michael Corleone, 2.47e-05)   \n",
       "4                         (movie, 8e-06)        (Don Vito Corleone, 3.72e-05)   \n",
       "5                (ford Coppola, 8.1e-06)     (Don Michael Corleone, 4.61e-05)   \n",
       "6               (Vito Corleone, 1.1e-05)                (godfather, 4.71e-05)   \n",
       "7     (Ford Coppola Godfather, 1.12e-05)           (Robert de Niro, 7.91e-05)   \n",
       "8  (Marlon Brando performance, 1.27e-05)  (Pacino Michael Corleone, 8.45e-05)   \n",
       "9     (Godfather Don Corleone, 1.29e-05)                   (movie, 0.0001071)   \n",
       "\n",
       "                         Godfather_3  \n",
       "0      (Godfather Part III, 9.6e-06)  \n",
       "1       (Michael Corleone, 7.09e-05)  \n",
       "2         (Godfather Part, 7.47e-05)  \n",
       "3          (Sofia Coppola, 7.82e-05)  \n",
       "4               (Part III, 9.96e-05)  \n",
       "5             (Godfather, 0.0001243)  \n",
       "6         (Godfather III, 0.0001658)  \n",
       "7  (Francis Ford Coppola, 0.0001833)  \n",
       "8           (Andy Garcia, 0.0001862)  \n",
       "9      (Godfather movies, 0.0002077)  "
      ]
     },
     "execution_count": 201,
     "metadata": {},
     "output_type": "execute_result"
    }
   ],
   "source": [
    "df = pd.DataFrame(keywords)\n",
    "df"
   ]
  },
  {
   "cell_type": "markdown",
   "metadata": {},
   "source": [
    "After finding the keywords we can see so many character names! So we can find the most important and influential characters in each movie according to the critics. Let's have a review about the results:\n",
    "\n",
    "- Francis Ford Coppola, is the director of The Godfather. He is considered one of the best directors in all time because of creating such a masterpiece movie. It is the reasonn that in critics for the first movie his name is the main keyword! \n",
    "\n",
    "- Young Vito Corleone played a major role in the Godfather part 2. Robert De Niro played this role and won a Oscar award for his beautiful acting.  \n",
    "\n",
    "- Michael Corleone is a fictional character which was in all parts of the trilogy and he was the main character in The Godfather part two and three."
   ]
  },
  {
   "cell_type": "markdown",
   "metadata": {},
   "source": [
    "## Sentiment Alalysis:\n",
    "I used SentimentIntensityAnalyzer to determine the positivity and negativity and also neutrality of critisims for each movie."
   ]
  },
  {
   "cell_type": "markdown",
   "metadata": {},
   "source": [
    "### tokenize and normalize the data"
   ]
  },
  {
   "cell_type": "code",
   "execution_count": 202,
   "metadata": {},
   "outputs": [],
   "source": [
    "def tokenize(data):\n",
    "    word_tokens = word_tokenize(data)\n",
    "    return word_tokens"
   ]
  },
  {
   "cell_type": "code",
   "execution_count": 203,
   "metadata": {},
   "outputs": [],
   "source": [
    "stop_words = set(stopwords.words('english'))\n",
    "\n",
    "def filter_data(data, minimum_length=1):\n",
    "    word_tokens = tokenize(data)\n",
    "    filtered_sentence = []\n",
    "    for w in word_tokens:\n",
    "        if w not in stop_words and len(w) > minimum_length and w not in string.punctuation: \n",
    "            filtered_sentence.append(w)\n",
    "    return list(filtered_sentence)"
   ]
  },
  {
   "cell_type": "code",
   "execution_count": 204,
   "metadata": {},
   "outputs": [],
   "source": [
    "normalized_movies = {}\n",
    "\n",
    "normalized_movies['Godfather_1'] = \" \".join(filter_data(criticism_first_movie))\n",
    "normalized_movies['Godfather_2'] = \" \".join(filter_data(criticism_second_movie))\n",
    "normalized_movies['Godfather_3'] = \" \".join(filter_data(criticism_third_movie))"
   ]
  },
  {
   "cell_type": "code",
   "execution_count": 205,
   "metadata": {},
   "outputs": [],
   "source": [
    "from nltk.sentiment import SentimentIntensityAnalyzer"
   ]
  },
  {
   "cell_type": "code",
   "execution_count": 207,
   "metadata": {},
   "outputs": [],
   "source": [
    "sia = SentimentIntensityAnalyzer()\n",
    "sentiments = {}\n",
    "sentiments_for_normalized_data = {}\n",
    "for movie, criticisms in movies.items():\n",
    "    status = sia.polarity_scores(normalized_movies[movie])\n",
    "    sentiments_for_normalized_data[movie] = [status['pos'], status['neu'], status['neg']]"
   ]
  },
  {
   "cell_type": "code",
   "execution_count": 211,
   "metadata": {
    "scrolled": true
   },
   "outputs": [
    {
     "data": {
      "text/html": [
       "<div>\n",
       "<style scoped>\n",
       "    .dataframe tbody tr th:only-of-type {\n",
       "        vertical-align: middle;\n",
       "    }\n",
       "\n",
       "    .dataframe tbody tr th {\n",
       "        vertical-align: top;\n",
       "    }\n",
       "\n",
       "    .dataframe thead th {\n",
       "        text-align: right;\n",
       "    }\n",
       "</style>\n",
       "<table border=\"1\" class=\"dataframe\">\n",
       "  <thead>\n",
       "    <tr style=\"text-align: right;\">\n",
       "      <th></th>\n",
       "      <th>Godfather_1</th>\n",
       "      <th>Godfather_2</th>\n",
       "      <th>Godfather_3</th>\n",
       "    </tr>\n",
       "  </thead>\n",
       "  <tbody>\n",
       "    <tr>\n",
       "      <th>positive</th>\n",
       "      <td>0.244</td>\n",
       "      <td>0.205</td>\n",
       "      <td>0.186</td>\n",
       "    </tr>\n",
       "    <tr>\n",
       "      <th>neutral</th>\n",
       "      <td>0.693</td>\n",
       "      <td>0.702</td>\n",
       "      <td>0.716</td>\n",
       "    </tr>\n",
       "    <tr>\n",
       "      <th>negative</th>\n",
       "      <td>0.063</td>\n",
       "      <td>0.094</td>\n",
       "      <td>0.097</td>\n",
       "    </tr>\n",
       "  </tbody>\n",
       "</table>\n",
       "</div>"
      ],
      "text/plain": [
       "          Godfather_1  Godfather_2  Godfather_3\n",
       "positive        0.244        0.205        0.186\n",
       "neutral         0.693        0.702        0.716\n",
       "negative        0.063        0.094        0.097"
      ]
     },
     "execution_count": 211,
     "metadata": {},
     "output_type": "execute_result"
    }
   ],
   "source": [
    "df_prime = pd.DataFrame(data=sentiments_for_normalized_data)\n",
    "df_prime.index = ['positive', 'neutral', 'negative']\n",
    "df"
   ]
  },
  {
   "cell_type": "markdown",
   "metadata": {},
   "source": [
    "### Visualization\n",
    "After the sentiment analysis I used bar chart to visualize condition of each movie."
   ]
  },
  {
   "cell_type": "code",
   "execution_count": 212,
   "metadata": {},
   "outputs": [
    {
     "data": {
      "image/png": "[encoded data removed]",
      "text/plain": [
       "<Figure size 432x288 with 1 Axes>"
      ]
     },
     "metadata": {
      "needs_background": "light"
     },
     "output_type": "display_data"
    }
   ],
   "source": [
    "df.transpose().plot(kind='bar',color=[\"tab:blue\", \"orange\", \"r\"])\n",
    "plt.show()"
   ]
  },
  {
   "cell_type": "markdown",
   "metadata": {},
   "source": [
    "### Most positive and most negative Critics"
   ]
  },
  {
   "cell_type": "code",
   "execution_count": 214,
   "metadata": {
    "scrolled": true
   },
   "outputs": [
    {
     "name": "stdout",
     "output_type": "stream",
     "text": [
      "most positive criticisms: Godfather_1  Godfather_2  Godfather_3  \n",
      "most negative criticisms: Godfather_3  Godfather_2  Godfather_1  "
     ]
    }
   ],
   "source": [
    "positively_sorted = {k: v for k, v in sorted(sentiments.items(), key=lambda item: item[1][0], reverse=True)}\n",
    "negatively_sorted = {k: v for k, v in sorted(sentiments.items(), key=lambda item: item[1][2], reverse=True)}\n",
    "\n",
    "print(\"most positive criticisms: \", end='')\n",
    "for person in positively_sorted:\n",
    "    print(person, end='  ')\n",
    "\n",
    "print()\n",
    "\n",
    "print(\"most negative criticisms: \", end='')\n",
    "for movie in negatively_sorted:\n",
    "    print(movie, end='  ')"
   ]
  },
  {
   "cell_type": "markdown",
   "metadata": {},
   "source": [
    "This result was predictable and completely reasonable. Since many people consider the Godfather part 1 as the best movie ever. Also the second one was masterpiece but the third one was kind of dissapointing in comparison with the other two. So the most positive reviews are related to the first two movies."
   ]
  },
  {
   "cell_type": "markdown",
   "metadata": {},
   "source": [
    "### Pie chart for sentiment analysis"
   ]
  },
  {
   "cell_type": "markdown",
   "metadata": {},
   "source": [
    "Finally I plot the sentiment data for the 3 movies that have been mentioned above, in different pie charts. "
   ]
  },
  {
   "cell_type": "code",
   "execution_count": 215,
   "metadata": {},
   "outputs": [
    {
     "name": "stderr",
     "output_type": "stream",
     "text": [
      "<ipython-input-215-77e73532656c>:14: MatplotlibDeprecationWarning: normalize=None does not normalize if the sum is less than 1 but this behavior is deprecated since 3.3 until two minor releases later. After the deprecation period the default value will be normalize=True. To prevent normalization pass normalize=False \n",
      "  axis[2].pie(df.Godfather_3, colors=colors, labels=labels, explode=explode, autopct='%1.1f%%', counterclock=False, shadow=True)\n"
     ]
    },
    {
     "data": {
      "image/png": "[encoded data removed]",
      "text/plain": [
       "<Figure size 1296x864 with 3 Axes>"
      ]
     },
     "metadata": {},
     "output_type": "display_data"
    }
   ],
   "source": [
    "figure, axis = plt.subplots(3)\n",
    "figure.set_size_inches(18,12)\n",
    "colors = ['tab:green', 'c', 'r']\n",
    "labels = ['positive', 'neutral', 'negative']\n",
    "explode = (0.2, 0.2, 0.2)\n",
    "\n",
    "#positives\n",
    "axis[0].pie(df.Godfather_1, colors=colors, labels=labels, explode=explode, autopct='%1.1f%%', counterclock=False, shadow=True)\n",
    "axis[0].set_title('Godfather 1', fontname=\"Times New Roman\", fontweight=\"bold\")\n",
    "\n",
    "axis[1].pie(df.Godfather_2, colors=colors, labels=labels, explode=explode, autopct='%1.1f%%', counterclock=False, shadow=True)\n",
    "axis[1].set_title('Godfather 2', fontname=\"Times New Roman\", fontweight=\"bold\")\n",
    "\n",
    "axis[2].pie(df.Godfather_3, colors=colors, labels=labels, explode=explode, autopct='%1.1f%%', counterclock=False, shadow=True)\n",
    "axis[2].set_title('Godfather 3', fontname=\"Times New Roman\", fontweight=\"bold\")\n",
    "\n",
    "\n",
    "plt.show()"
   ]
  }
 ],
 "metadata": {
  "interpreter": {
   "hash": "0d0bc455fb1f111feac98563baf72197a64f009712bd5d436755204a8bac743f"
  },
  "kernelspec": {
   "display_name": "Python 3",
   "language": "python",
   "name": "python3"
  },
  "language_info": {
   "codemirror_mode": {
    "name": "ipython",
    "version": 3
   },
   "file_extension": ".py",
   "mimetype": "text/x-python",
   "name": "python",
   "nbconvert_exporter": "python",
   "pygments_lexer": "ipython3",
   "version": "3.8.8"
  }
 },
 "nbformat": 4,
 "nbformat_minor": 2
}
